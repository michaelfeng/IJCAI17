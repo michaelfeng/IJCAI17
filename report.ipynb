{
 "cells": [
  {
   "cell_type": "markdown",
   "metadata": {
    "deletable": true,
    "editable": true
   },
   "source": [
    "TODO：\n",
    "\n",
    "- [Done] 问题分析、数据处理、编码，2017301\n",
    "- [Done] GradientBoostingRegressor算法参数优化， 20170302\n",
    "- [Done] 加入weekday和weekend字段做feature， 20170303\n",
    "- [Done] extra_user_view.txt字段的使用，20170304\n",
    "- [Done] 数据清洗，20170305\n",
    "- [Done] 其他算法的尝试和优化, 20170305\n",
    "- 三方数据如天气、空气指数的引入"
   ]
  },
  {
   "cell_type": "code",
   "execution_count": 1,
   "metadata": {
    "collapsed": true,
    "scrolled": true
   },
   "outputs": [],
   "source": [
    "import xgboost as xgb"
   ]
  },
  {
   "cell_type": "markdown",
   "metadata": {
    "deletable": true,
    "editable": true
   },
   "source": [
    "# 导入user_pay数据"
   ]
  },
  {
   "cell_type": "code",
   "execution_count": 2,
   "metadata": {
    "collapsed": false,
    "deletable": true,
    "editable": true,
    "scrolled": true
   },
   "outputs": [
    {
     "name": "stdout",
     "output_type": "stream",
     "text": [
      "Load data finished.\n",
      "Group data user_pay info finished.\n"
     ]
    }
   ],
   "source": [
    "from sklearn.model_selection import RandomizedSearchCV\n",
    "from sklearn.ensemble import GradientBoostingRegressor\n",
    "import numpy as np\n",
    "import pandas as pd\n",
    "from sklearn.feature_extraction import DictVectorizer\n",
    "from sklearn.model_selection import train_test_split\n",
    "from time import time\n",
    "from sklearn.metrics import mean_squared_error\n",
    "import datetime as dt\n",
    "import matplotlib.pyplot as plt\n",
    "\n",
    "def encode_onehot(df, cols):\n",
    "    vec = DictVectorizer()\n",
    "    vec_data = pd.DataFrame(vec.fit_transform(df[cols].to_dict(orient='records')).toarray())\n",
    "    vec_data.columns = vec.get_feature_names()\n",
    "    vec_data.index = df.index\n",
    "    df = df.drop(cols, axis=1)\n",
    "    df = df.join(vec_data)\n",
    "    return df\n",
    "\n",
    "### Preprocess user_pay data                                                                                                                                                                                \n",
    "t0 = time()\n",
    "user_pay_names=['user_id', 'shop_id', 'time']\n",
    "df = pd.read_csv('user_pay.txt', names=user_pay_names)\n",
    "df['day'] = pd.Series(pd.to_datetime(df['time'])).dt.date\n",
    "print 'Load data finished.'\n",
    "\n",
    "# df contains 'user_id, shop_id, day'                                                                                                                                                                       \n",
    "del df['time']\n",
    "df = df.groupby(['shop_id','day'],as_index=False).count()\n",
    "df['pay_count'] = df['user_id']\n",
    "del df['user_id']\n",
    "df['pay_count'] = pd.to_numeric(df['pay_count'], errors='coerce').fillna(0)\n",
    "print 'Group data user_pay info finished.'"
   ]
  },
  {
   "cell_type": "markdown",
   "metadata": {
    "deletable": true,
    "editable": true
   },
   "source": [
    "- 将shop_id对应的所有pay_count信息sum求和之后，使用matplotlib的柱状图展示，以发现其中的outliers"
   ]
  },
  {
   "cell_type": "code",
   "execution_count": 3,
   "metadata": {
    "collapsed": false,
    "deletable": true,
    "editable": true,
    "scrolled": true
   },
   "outputs": [
    {
     "name": "stdout",
     "output_type": "stream",
     "text": [
      "   shop_id  pay_count\n",
      "0        1      92689\n",
      "1        2      39110\n",
      "2        3      10469\n",
      "3        4      13606\n",
      "4        5      31455\n",
      "\n",
      "Shop pay_count data shape:  2000\n"
     ]
    },
    {
     "data": {
      "image/png": "[encoded data removed]",
      "text/plain": [
       "<matplotlib.figure.Figure at 0x111f58350>"
      ]
     },
     "metadata": {},
     "output_type": "display_data"
    }
   ],
   "source": [
    "shop_total_pay_df = df.groupby(['shop_id'],as_index=False).sum()\n",
    "print shop_total_pay_df.head()\n",
    "print\n",
    "print 'Shop pay_count data shape: ', shop_total_pay_df.shape[0]\n",
    "\n",
    "shop_total_pay_df['pay_count'].plot()\n",
    "plt.legend(loc='best')\n",
    "plt.show()"
   ]
  },
  {
   "cell_type": "markdown",
   "metadata": {
    "deletable": true,
    "editable": true
   },
   "source": [
    "* 异常点"
   ]
  },
  {
   "cell_type": "code",
   "execution_count": 4,
   "metadata": {
    "collapsed": false,
    "deletable": true,
    "editable": true,
    "scrolled": true
   },
   "outputs": [
    {
     "name": "stdout",
     "output_type": "stream",
     "text": [
      "      shop_id  pay_count\n",
      "57         58     476209\n",
      "516       517     380184\n",
      "1628     1629     680464\n",
      "1927     1928     418208\n"
     ]
    }
   ],
   "source": [
    "print shop_total_pay_df[shop_total_pay_df['pay_count'] > 350000]"
   ]
  },
  {
   "cell_type": "code",
   "execution_count": 5,
   "metadata": {
    "collapsed": false,
    "deletable": true,
    "editable": true,
    "scrolled": true
   },
   "outputs": [
    {
     "name": "stdout",
     "output_type": "stream",
     "text": [
      "Pay count mean:  34837.055\n",
      "Pay count Max:   680464\n",
      "Pay count Min:   4321\n"
     ]
    }
   ],
   "source": [
    "pay_mean = shop_total_pay_df['pay_count'].mean()\n",
    "pay_max = shop_total_pay_df['pay_count'].max()\n",
    "pay_min = shop_total_pay_df['pay_count'].min()\n",
    "#(x - np.mean(x)) / (np.max(x) - np.min(x))\n",
    "print 'Pay count mean: ', pay_mean\n",
    "print 'Pay count Max:  ', pay_max\n",
    "print 'Pay count Min:  ', pay_min"
   ]
  },
  {
   "cell_type": "code",
   "execution_count": 6,
   "metadata": {
    "collapsed": false,
    "deletable": true,
    "editable": true,
    "scrolled": true
   },
   "outputs": [
    {
     "name": "stdout",
     "output_type": "stream",
     "text": [
      "0    0.085562\n",
      "1    0.006320\n",
      "2   -0.036040\n",
      "3   -0.031400\n",
      "4   -0.005002\n",
      "Name: pay_count, dtype: float64\n"
     ]
    }
   ],
   "source": [
    "tmp_df = shop_total_pay_df['pay_count'].apply(lambda x: (x - pay_mean) * 1.0 /(pay_max - pay_min))\n",
    "print tmp_df.head()"
   ]
  },
  {
   "cell_type": "code",
   "execution_count": 7,
   "metadata": {
    "collapsed": false,
    "deletable": true,
    "editable": true,
    "scrolled": true
   },
   "outputs": [
    {
     "data": {
      "image/png": "[encoded data removed]",
      "text/plain": [
       "<matplotlib.figure.Figure at 0x1112be6d0>"
      ]
     },
     "metadata": {},
     "output_type": "display_data"
    }
   ],
   "source": [
    "tmp_df.plot()\n",
    "plt.show()"
   ]
  },
  {
   "cell_type": "markdown",
   "metadata": {
    "deletable": true,
    "editable": true
   },
   "source": [
    "* 经过Normalization的处理发现各点之间的差值虽然变小，但是outlier还是存在较大区间的差异，因而后续处理fit的时候考虑将outlier移除以使模型能更好的吻合，在最终结果中再将对应的outlier做还原处理"
   ]
  },
  {
   "cell_type": "code",
   "execution_count": 8,
   "metadata": {
    "collapsed": true,
    "deletable": true,
    "editable": true,
    "scrolled": true
   },
   "outputs": [],
   "source": [
    "# 移除异常数据\n",
    "df = df[df['pay_count'] < 350000]"
   ]
  },
  {
   "cell_type": "markdown",
   "metadata": {
    "deletable": true,
    "editable": true
   },
   "source": [
    "# 导入shop_info数据"
   ]
  },
  {
   "cell_type": "code",
   "execution_count": 9,
   "metadata": {
    "collapsed": false,
    "deletable": true,
    "editable": true,
    "scrolled": true
   },
   "outputs": [
    {
     "name": "stdout",
     "output_type": "stream",
     "text": [
      "   shop_id         day  pay_count\n",
      "0        1  2015-10-10        188\n",
      "1        1  2015-10-11        272\n",
      "2        1  2015-10-12        257\n",
      "3        1  2015-10-13        239\n",
      "4        1  2015-10-14        277\n"
     ]
    }
   ],
   "source": [
    "print df.head()"
   ]
  },
  {
   "cell_type": "code",
   "execution_count": 10,
   "metadata": {
    "collapsed": false,
    "deletable": true,
    "editable": true,
    "scrolled": true
   },
   "outputs": [
    {
     "name": "stdout",
     "output_type": "stream",
     "text": [
      "Data after merged(shop_info, user_pay pay count in shop per/day): \n",
      "   shop_id         day  pay_count city_name  location_id  per_pay  score  \\\n",
      "0        1  2015-10-10        188        湖州          885        8    4.0   \n",
      "1        1  2015-10-11        272        湖州          885        8    4.0   \n",
      "2        1  2015-10-12        257        湖州          885        8    4.0   \n",
      "3        1  2015-10-13        239        湖州          885        8    4.0   \n",
      "4        1  2015-10-14        277        湖州          885        8    4.0   \n",
      "\n",
      "   comment_cnt  shop_level cate_1_name cate_2_name  \n",
      "0         12.0           2          美食        休闲茶饮  \n",
      "1         12.0           2          美食        休闲茶饮  \n",
      "2         12.0           2          美食        休闲茶饮  \n",
      "3         12.0           2          美食        休闲茶饮  \n",
      "4         12.0           2          美食        休闲茶饮  \n"
     ]
    }
   ],
   "source": [
    "shop_info_names=['shop_id','city_name','location_id','per_pay','score','comment_cnt','shop_level','cate_1_name','cate_2_name','cate_3_name']\n",
    "shop_df = pd.read_csv('shop_info.txt', names=shop_info_names)\n",
    "del shop_df['cate_3_name']\n",
    "\n",
    "merge_names=['city_name','location_id','per_pay','score','comment_cnt','shop_level','cate_1_name','cate_2_name']\n",
    "df = df.merge(shop_df, left_on='shop_id', right_on='shop_id', how='left')\n",
    "print 'Data after merged(shop_info, user_pay pay count in shop per/day): '\n",
    "print df.head()\n",
    "# df contains \"'pay_count','shop_id','day', 'city_name','location_id','per_pay','score','comment_cnt','shop_level','cate_1_name','cate_2_name'\""
   ]
  },
  {
   "cell_type": "markdown",
   "metadata": {
    "deletable": true,
    "editable": true
   },
   "source": [
    "# 导入user_view数据"
   ]
  },
  {
   "cell_type": "code",
   "execution_count": 11,
   "metadata": {
    "collapsed": false,
    "deletable": true,
    "editable": true,
    "scrolled": true
   },
   "outputs": [
    {
     "name": "stdout",
     "output_type": "stream",
     "text": [
      "    user_id  shop_id            view_time         day\n",
      "0  13201967     1197  2016-10-21 18:00:00  2016-10-21\n",
      "1  19461365     1197  2016-06-28 23:00:00  2016-06-28\n",
      "2  15022321     1197  2016-07-16 19:00:00  2016-07-16\n",
      "3   5440872     1197  2016-07-15 07:00:00  2016-07-15\n",
      "4  12594529     1197  2016-08-07 16:00:00  2016-08-07\n"
     ]
    }
   ],
   "source": [
    "user_view_names=['user_id', 'shop_id', 'view_time']\n",
    "view_df = pd.read_csv('user_view.txt', names=user_view_names)\n",
    "view_df['day'] = pd.Series(pd.to_datetime(view_df['view_time'])).dt.date\n",
    "print view_df.head()"
   ]
  },
  {
   "cell_type": "code",
   "execution_count": null,
   "metadata": {
    "collapsed": true,
    "deletable": true,
    "editable": true,
    "scrolled": true
   },
   "outputs": [],
   "source": []
  },
  {
   "cell_type": "code",
   "execution_count": 12,
   "metadata": {
    "collapsed": false,
    "deletable": true,
    "editable": true,
    "scrolled": true
   },
   "outputs": [
    {
     "name": "stdout",
     "output_type": "stream",
     "text": [
      "Data after merged(user_view, user_pay, view per/day on shop): \n",
      "   shop_id         day  pay_count city_name  location_id  per_pay  score  \\\n",
      "0        1  2015-10-10        188        湖州          885        8    4.0   \n",
      "1        1  2015-10-11        272        湖州          885        8    4.0   \n",
      "2        1  2015-10-12        257        湖州          885        8    4.0   \n",
      "3        1  2015-10-13        239        湖州          885        8    4.0   \n",
      "4        1  2015-10-14        277        湖州          885        8    4.0   \n",
      "\n",
      "   comment_cnt  shop_level cate_1_name cate_2_name  view_count  \n",
      "0         12.0           2          美食        休闲茶饮         0.0  \n",
      "1         12.0           2          美食        休闲茶饮         0.0  \n",
      "2         12.0           2          美食        休闲茶饮         0.0  \n",
      "3         12.0           2          美食        休闲茶饮         0.0  \n",
      "4         12.0           2          美食        休闲茶饮         0.0  \n"
     ]
    }
   ],
   "source": [
    "del view_df['view_time']\n",
    "view_df = view_df.groupby(['shop_id','day'],as_index=False).count()\n",
    "view_df['view_count'] = view_df['user_id']\n",
    "del view_df['user_id']\n",
    "\n",
    "# 移除异常数据\n",
    "view_df = view_df[view_df['view_count'] < 5000]\n",
    "\n",
    "# Merge user_view with user_pay and shop_info data                                                                                                                                                          \n",
    "df = df.merge(view_df, left_on=['shop_id','day'], right_on=['shop_id','day'], how='left')\n",
    "\n",
    "### Clean data fill 0 for NaN value in column                                                                                                                                                               \n",
    "df = df.fillna(0)\n",
    "\n",
    "print 'Data after merged(user_view, user_pay, view per/day on shop): '\n",
    "print df.head()"
   ]
  },
  {
   "cell_type": "code",
   "execution_count": 13,
   "metadata": {
    "collapsed": false,
    "deletable": true,
    "editable": true,
    "scrolled": true
   },
   "outputs": [
    {
     "data": {
      "image/png": "[encoded data removed]",
      "text/plain": [
       "<matplotlib.figure.Figure at 0x41555b1d0>"
      ]
     },
     "metadata": {},
     "output_type": "display_data"
    }
   ],
   "source": [
    "view_sum_df = view_df.groupby(['shop_id','day'],as_index=False).sum()\n",
    "view_sum_df['view_count'].plot()\n",
    "plt.show()"
   ]
  },
  {
   "cell_type": "code",
   "execution_count": 14,
   "metadata": {
    "collapsed": false,
    "deletable": true,
    "editable": true,
    "scrolled": true
   },
   "outputs": [
    {
     "data": {
      "image/png": "[encoded data removed]",
      "text/plain": [
       "<matplotlib.figure.Figure at 0x1121143d0>"
      ]
     },
     "metadata": {},
     "output_type": "display_data"
    }
   ],
   "source": [
    "view_sum_df = view_df.groupby(['shop_id','day'],as_index=False).sum()\n",
    "view_sum_df = view_sum_df[view_sum_df['view_count'] < 5000]\n",
    "view_sum_df['view_count'].plot()\n",
    "plt.show()"
   ]
  },
  {
   "cell_type": "code",
   "execution_count": 10,
   "metadata": {
    "collapsed": false,
    "deletable": true,
    "editable": true,
    "scrolled": true
   },
   "outputs": [
    {
     "name": "stdout",
     "output_type": "stream",
     "text": [
      "   shop_id         day  view_count\n",
      "0        1  2016-06-22          10\n",
      "1        1  2016-06-23          18\n",
      "2        1  2016-06-24           5\n",
      "3        1  2016-06-25          22\n",
      "4        1  2016-06-26          15\n"
     ]
    }
   ],
   "source": [
    "print view_sum_df.head()"
   ]
  },
  {
   "cell_type": "code",
   "execution_count": 11,
   "metadata": {
    "collapsed": false,
    "deletable": true,
    "editable": true,
    "scrolled": true
   },
   "outputs": [
    {
     "name": "stdout",
     "output_type": "stream",
     "text": [
      "Empty DataFrame\n",
      "Columns: [shop_id, day, view_count]\n",
      "Index: []\n",
      "   shop_id         day  pay_count city_name  location_id  per_pay  score  \\\n",
      "0        1  2015-10-10        188        湖州          885        8    4.0   \n",
      "1        1  2015-10-11        272        湖州          885        8    4.0   \n",
      "2        1  2015-10-12        257        湖州          885        8    4.0   \n",
      "3        1  2015-10-13        239        湖州          885        8    4.0   \n",
      "4        1  2015-10-14        277        湖州          885        8    4.0   \n",
      "\n",
      "   comment_cnt  shop_level cate_1_name cate_2_name  view_count  \n",
      "0         12.0           2          美食        休闲茶饮         0.0  \n",
      "1         12.0           2          美食        休闲茶饮         0.0  \n",
      "2         12.0           2          美食        休闲茶饮         0.0  \n",
      "3         12.0           2          美食        休闲茶饮         0.0  \n",
      "4         12.0           2          美食        休闲茶饮         0.0  \n"
     ]
    }
   ],
   "source": [
    "print view_sum_df[view_sum_df['view_count'] > 5000]\n",
    "print df.head()"
   ]
  },
  {
   "cell_type": "markdown",
   "metadata": {
    "deletable": true,
    "editable": true
   },
   "source": [
    "* 根据上图可以发现shop_id:1629在其中也是outlier，其view访问数量也在很大程度上远远超过其他商家，推测可能该商家在那天前后做了大规模推广或者特定平台的活动，导致当天展示、浏览及支付量暴增。"
   ]
  },
  {
   "cell_type": "markdown",
   "metadata": {
    "deletable": true,
    "editable": true
   },
   "source": [
    "### Data process for one hot encoding and datetime to ordinal"
   ]
  },
  {
   "cell_type": "code",
   "execution_count": 15,
   "metadata": {
    "collapsed": false,
    "deletable": true,
    "editable": true,
    "scrolled": true
   },
   "outputs": [
    {
     "name": "stdout",
     "output_type": "stream",
     "text": [
      "train_features header:\n",
      "        shop_id     day  location_id  per_pay  score  comment_cnt  shop_level  \\\n",
      "527745     1763  736171          160       12    3.0         10.0           2   \n",
      "98053       330  736155          680       18    3.0          1.0           0   \n",
      "522442     1745  735997          287       13    3.0         20.0           2   \n",
      "595020     1986  736106           60       13    2.0          8.0           2   \n",
      "188466      636  736158           31        1    4.0          2.0           0   \n",
      "\n",
      "        view_count  weekday  is_weekend      ...       city_name=镇江  \\\n",
      "527745        19.0        1           0      ...                0.0   \n",
      "98053         36.0        6           1      ...                0.0   \n",
      "522442         0.0        2           0      ...                0.0   \n",
      "595020         0.0        6           1      ...                0.0   \n",
      "188466         3.0        2           0      ...                0.0   \n",
      "\n",
      "        city_name=长沙  city_name=长治  city_name=阜阳  city_name=阳江  city_name=青岛  \\\n",
      "527745           0.0           0.0           0.0           0.0           0.0   \n",
      "98053            0.0           0.0           0.0           0.0           0.0   \n",
      "522442           0.0           0.0           0.0           0.0           0.0   \n",
      "595020           0.0           0.0           0.0           0.0           0.0   \n",
      "188466           0.0           0.0           0.0           0.0           0.0   \n",
      "\n",
      "        city_name=黄冈  city_name=黄山  city_name=黄石  city_name=龙岩  \n",
      "527745           0.0           0.0           0.0           0.0  \n",
      "98053            0.0           0.0           0.0           0.0  \n",
      "522442           0.0           0.0           0.0           0.0  \n",
      "595020           0.0           0.0           0.0           0.0  \n",
      "188466           0.0           0.0           0.0           0.0  \n",
      "\n",
      "[5 rows x 155 columns]\n"
     ]
    }
   ],
   "source": [
    "# Data process\n",
    "df['weekday'] = df['day'].apply(lambda x: dt.datetime.weekday(x))\n",
    "df['is_weekend'] = df['weekday'].apply(lambda x: 1 if x >= 5 else 0)\n",
    "df['day'] = df['day'].apply(lambda x: x.toordinal())\n",
    "\n",
    "labels = df['pay_count']\n",
    "del df['pay_count']\n",
    "\n",
    "### One Hot encoding for column: cate_1_name, cate_2_name, city_name                                                                                                                                        \n",
    "# Vectorize the categorical columns: e & f                                                                                                                                                                  \n",
    "df = encode_onehot(df, cols=['city_name','cate_1_name','cate_2_name'])\n",
    "\n",
    "# print 'train features: ' + str(df.columns.values)                                                                                                                                                         \n",
    "train_features,test_features,train_labels,test_labels=train_test_split(df,labels,test_size=0.2,random_state=0)\n",
    "\n",
    "print 'train_features header:'\n",
    "print train_features.head()"
   ]
  },
  {
   "cell_type": "code",
   "execution_count": 12,
   "metadata": {
    "collapsed": false,
    "deletable": true,
    "editable": true,
    "scrolled": true
   },
   "outputs": [
    {
     "name": "stdout",
     "output_type": "stream",
     "text": [
      "527745    205\n",
      "98053      51\n",
      "522442    486\n",
      "595020     95\n",
      "188466      7\n",
      "Name: pay_count, dtype: int64\n"
     ]
    }
   ],
   "source": [
    "print train_labels.head()"
   ]
  },
  {
   "cell_type": "markdown",
   "metadata": {
    "deletable": true,
    "editable": true
   },
   "source": [
    "### 移除异常点数据或先对数据做临时规则处理"
   ]
  },
  {
   "cell_type": "code",
   "execution_count": 13,
   "metadata": {
    "collapsed": false,
    "deletable": true,
    "editable": true,
    "scrolled": true
   },
   "outputs": [
    {
     "name": "stdout",
     "output_type": "stream",
     "text": [
      "479420\n"
     ]
    }
   ],
   "source": [
    "print train_labels.shape[0]"
   ]
  },
  {
   "cell_type": "markdown",
   "metadata": {
    "deletable": true,
    "editable": true
   },
   "source": [
    "## XGBoost算法训练"
   ]
  },
  {
   "cell_type": "markdown",
   "metadata": {},
   "source": [
    "#### Step 1: Fix learning rate and number of estimators for tuning tree-based parameters"
   ]
  },
  {
   "cell_type": "code",
   "execution_count": 55,
   "metadata": {
    "collapsed": false,
    "deletable": true,
    "editable": true,
    "scrolled": true
   },
   "outputs": [
    {
     "name": "stderr",
     "output_type": "stream",
     "text": [
      "/Users/michaelfeng/code/tf/venv/lib/python2.7/site-packages/sklearn/preprocessing/data.py:321: DeprecationWarning: Passing 1d arrays as data is deprecated in 0.17 and will raise ValueError in 0.19. Reshape your data either using X.reshape(-1, 1) if your data has a single feature or X.reshape(1, -1) if it contains a single sample.\n",
      "  warnings.warn(DEPRECATION_MSG_1D, DeprecationWarning)\n",
      "/Users/michaelfeng/code/tf/venv/lib/python2.7/site-packages/sklearn/preprocessing/data.py:356: DeprecationWarning: Passing 1d arrays as data is deprecated in 0.17 and will raise ValueError in 0.19. Reshape your data either using X.reshape(-1, 1) if your data has a single feature or X.reshape(1, -1) if it contains a single sample.\n",
      "  warnings.warn(DEPRECATION_MSG_1D, DeprecationWarning)\n",
      "/Users/michaelfeng/code/tf/venv/lib/python2.7/site-packages/sklearn/preprocessing/data.py:321: DeprecationWarning: Passing 1d arrays as data is deprecated in 0.17 and will raise ValueError in 0.19. Reshape your data either using X.reshape(-1, 1) if your data has a single feature or X.reshape(1, -1) if it contains a single sample.\n",
      "  warnings.warn(DEPRECATION_MSG_1D, DeprecationWarning)\n",
      "/Users/michaelfeng/code/tf/venv/lib/python2.7/site-packages/sklearn/preprocessing/data.py:356: DeprecationWarning: Passing 1d arrays as data is deprecated in 0.17 and will raise ValueError in 0.19. Reshape your data either using X.reshape(-1, 1) if your data has a single feature or X.reshape(1, -1) if it contains a single sample.\n",
      "  warnings.warn(DEPRECATION_MSG_1D, DeprecationWarning)\n"
     ]
    },
    {
     "name": "stdout",
     "output_type": "stream",
     "text": [
      "\n",
      "Model Report\n",
      "Score :  0.825051928067\n",
      "Mean Square Error :  3143.49179567\n"
     ]
    },
    {
     "name": "stderr",
     "output_type": "stream",
     "text": [
      "/Users/michaelfeng/code/tf/venv/lib/python2.7/site-packages/sklearn/preprocessing/data.py:374: DeprecationWarning: Passing 1d arrays as data is deprecated in 0.17 and will raise ValueError in 0.19. Reshape your data either using X.reshape(-1, 1) if your data has a single feature or X.reshape(1, -1) if it contains a single sample.\n",
      "  warnings.warn(DEPRECATION_MSG_1D, DeprecationWarning)\n"
     ]
    },
    {
     "data": {
      "image/png": "[encoded data removed]",
      "text/plain": [
       "<matplotlib.figure.Figure at 0x40948d390>"
      ]
     },
     "metadata": {},
     "output_type": "display_data"
    },
    {
     "name": "stdout",
     "output_type": "stream",
     "text": [
      "Predict time:  7310.544 s\n"
     ]
    }
   ],
   "source": [
    "from sklearn.preprocessing import MinMaxScaler\n",
    "import xgboost as xgb\n",
    "from sklearn.model_selection import RandomizedSearchCV\n",
    "import scipy.stats as st\n",
    "import pandas as pd\n",
    "import numpy as np\n",
    "from sklearn import cross_validation, metrics   #Additional scklearn functions\n",
    "from sklearn.grid_search import GridSearchCV   #Perforing grid search\n",
    "\n",
    "\n",
    "start = time()\n",
    "scaler1 = MinMaxScaler()\n",
    "scaler2 = MinMaxScaler()\n",
    "train_features_scale = scaler1.fit_transform(train_features)\n",
    "train_labels_scale = scaler2.fit_transform(train_labels)\n",
    "\n",
    "test_features_scale = scaler1.fit_transform(test_features)\n",
    "test_labels_scale = scaler2.fit_transform(test_labels)\n",
    "\n",
    "start = time()\n",
    "# clf = xgb.XGBRegressor(n_estimators=200, max_depth=12)\n",
    "clf = xgb.XGBRegressor(\n",
    "    learning_rate =0.1,\n",
    "    n_estimators=1000,\n",
    "    max_depth=5,\n",
    "    min_child_weight=1,\n",
    "    gamma=0,\n",
    "    subsample=0.8,\n",
    "    colsample_bytree=0.8,\n",
    "    scale_pos_weight = 1,\n",
    "    objective='count:poisson',\n",
    "    nthread=8,\n",
    "    seed=27)\n",
    "\n",
    "useTrainCV=True\n",
    "# cv_folds=2\n",
    "# early_stopping_rounds=1\n",
    "\n",
    "cv_folds=5\n",
    "early_stopping_rounds=50\n",
    "xgb_param = clf.get_xgb_params()\n",
    "xgtrain = xgb.DMatrix(train_features_scale, label=train_labels_scale)\n",
    "cvresult = xgb.cv(xgb_param, xgtrain, num_boost_round=clf.get_params()['n_estimators'], nfold=cv_folds, metrics='mae', early_stopping_rounds=early_stopping_rounds)\n",
    "clf.set_params(n_estimators=cvresult.shape[0])\n",
    "clf.fit(train_features_scale, train_labels_scale, eval_metric='mae', verbose=True)\n",
    "\n",
    "test_predictions = clf.predict(test_features_scale)\n",
    "\n",
    "#Print model report:\n",
    "print \"\\nModel Report\"\n",
    "print \"Score : \", clf.score(test_features_scale, test_labels_scale)\n",
    "print \"Mean Square Error : \",mean_squared_error(test_labels, scaler2.inverse_transform(test_predictions))\n",
    "\n",
    "feat_imp = pd.Series(clf.booster().get_fscore()).sort_values(ascending=False)\n",
    "feat_imp.plot(kind='bar', title='Feature Importances')\n",
    "plt.ylabel('Feature Importance Score')\n",
    "plt.show()\n",
    "print \"Predict time: \", round(time() - start, 3), \"s\"\n"
   ]
  },
  {
   "cell_type": "code",
   "execution_count": 56,
   "metadata": {
    "collapsed": false,
    "scrolled": false
   },
   "outputs": [
    {
     "name": "stdout",
     "output_type": "stream",
     "text": [
      "1000\n",
      "test-mae-mean     0.006356\n",
      "test-mae-std      0.000015\n",
      "train-mae-mean    0.006255\n",
      "train-mae-std     0.000005\n",
      "dtype: float64\n"
     ]
    },
    {
     "data": {
      "text/html": [
       "<div>\n",
       "<table border=\"1\" class=\"dataframe\">\n",
       "  <thead>\n",
       "    <tr style=\"text-align: right;\">\n",
       "      <th></th>\n",
       "      <th>test-mae-mean</th>\n",
       "      <th>test-mae-std</th>\n",
       "      <th>train-mae-mean</th>\n",
       "      <th>train-mae-std</th>\n",
       "    </tr>\n",
       "  </thead>\n",
       "  <tbody>\n",
       "    <tr>\n",
       "      <th>0</th>\n",
       "      <td>0.430228</td>\n",
       "      <td>0.000056</td>\n",
       "      <td>0.430228</td>\n",
       "      <td>0.000014</td>\n",
       "    </tr>\n",
       "    <tr>\n",
       "      <th>1</th>\n",
       "      <td>0.389201</td>\n",
       "      <td>0.000052</td>\n",
       "      <td>0.389202</td>\n",
       "      <td>0.000012</td>\n",
       "    </tr>\n",
       "    <tr>\n",
       "      <th>2</th>\n",
       "      <td>0.352077</td>\n",
       "      <td>0.000048</td>\n",
       "      <td>0.352078</td>\n",
       "      <td>0.000010</td>\n",
       "    </tr>\n",
       "    <tr>\n",
       "      <th>3</th>\n",
       "      <td>0.318494</td>\n",
       "      <td>0.000046</td>\n",
       "      <td>0.318494</td>\n",
       "      <td>0.000010</td>\n",
       "    </tr>\n",
       "    <tr>\n",
       "      <th>4</th>\n",
       "      <td>0.288104</td>\n",
       "      <td>0.000041</td>\n",
       "      <td>0.288106</td>\n",
       "      <td>0.000009</td>\n",
       "    </tr>\n",
       "    <tr>\n",
       "      <th>5</th>\n",
       "      <td>0.260616</td>\n",
       "      <td>0.000040</td>\n",
       "      <td>0.260618</td>\n",
       "      <td>0.000010</td>\n",
       "    </tr>\n",
       "    <tr>\n",
       "      <th>6</th>\n",
       "      <td>0.235746</td>\n",
       "      <td>0.000039</td>\n",
       "      <td>0.235748</td>\n",
       "      <td>0.000009</td>\n",
       "    </tr>\n",
       "    <tr>\n",
       "      <th>7</th>\n",
       "      <td>0.213254</td>\n",
       "      <td>0.000036</td>\n",
       "      <td>0.213256</td>\n",
       "      <td>0.000008</td>\n",
       "    </tr>\n",
       "    <tr>\n",
       "      <th>8</th>\n",
       "      <td>0.192909</td>\n",
       "      <td>0.000031</td>\n",
       "      <td>0.192909</td>\n",
       "      <td>0.000011</td>\n",
       "    </tr>\n",
       "    <tr>\n",
       "      <th>9</th>\n",
       "      <td>0.174513</td>\n",
       "      <td>0.000031</td>\n",
       "      <td>0.174513</td>\n",
       "      <td>0.000011</td>\n",
       "    </tr>\n",
       "    <tr>\n",
       "      <th>10</th>\n",
       "      <td>0.157884</td>\n",
       "      <td>0.000026</td>\n",
       "      <td>0.157882</td>\n",
       "      <td>0.000014</td>\n",
       "    </tr>\n",
       "    <tr>\n",
       "      <th>11</th>\n",
       "      <td>0.142852</td>\n",
       "      <td>0.000021</td>\n",
       "      <td>0.142850</td>\n",
       "      <td>0.000015</td>\n",
       "    </tr>\n",
       "    <tr>\n",
       "      <th>12</th>\n",
       "      <td>0.129266</td>\n",
       "      <td>0.000021</td>\n",
       "      <td>0.129263</td>\n",
       "      <td>0.000012</td>\n",
       "    </tr>\n",
       "    <tr>\n",
       "      <th>13</th>\n",
       "      <td>0.116988</td>\n",
       "      <td>0.000018</td>\n",
       "      <td>0.116985</td>\n",
       "      <td>0.000014</td>\n",
       "    </tr>\n",
       "    <tr>\n",
       "      <th>14</th>\n",
       "      <td>0.105904</td>\n",
       "      <td>0.000021</td>\n",
       "      <td>0.105899</td>\n",
       "      <td>0.000017</td>\n",
       "    </tr>\n",
       "    <tr>\n",
       "      <th>15</th>\n",
       "      <td>0.095897</td>\n",
       "      <td>0.000024</td>\n",
       "      <td>0.095890</td>\n",
       "      <td>0.000021</td>\n",
       "    </tr>\n",
       "    <tr>\n",
       "      <th>16</th>\n",
       "      <td>0.086864</td>\n",
       "      <td>0.000026</td>\n",
       "      <td>0.086856</td>\n",
       "      <td>0.000022</td>\n",
       "    </tr>\n",
       "    <tr>\n",
       "      <th>17</th>\n",
       "      <td>0.078717</td>\n",
       "      <td>0.000024</td>\n",
       "      <td>0.078709</td>\n",
       "      <td>0.000022</td>\n",
       "    </tr>\n",
       "    <tr>\n",
       "      <th>18</th>\n",
       "      <td>0.071375</td>\n",
       "      <td>0.000030</td>\n",
       "      <td>0.071368</td>\n",
       "      <td>0.000022</td>\n",
       "    </tr>\n",
       "    <tr>\n",
       "      <th>19</th>\n",
       "      <td>0.064769</td>\n",
       "      <td>0.000028</td>\n",
       "      <td>0.064760</td>\n",
       "      <td>0.000022</td>\n",
       "    </tr>\n",
       "    <tr>\n",
       "      <th>20</th>\n",
       "      <td>0.058832</td>\n",
       "      <td>0.000026</td>\n",
       "      <td>0.058823</td>\n",
       "      <td>0.000022</td>\n",
       "    </tr>\n",
       "    <tr>\n",
       "      <th>21</th>\n",
       "      <td>0.053505</td>\n",
       "      <td>0.000026</td>\n",
       "      <td>0.053494</td>\n",
       "      <td>0.000020</td>\n",
       "    </tr>\n",
       "    <tr>\n",
       "      <th>22</th>\n",
       "      <td>0.048730</td>\n",
       "      <td>0.000028</td>\n",
       "      <td>0.048718</td>\n",
       "      <td>0.000016</td>\n",
       "    </tr>\n",
       "    <tr>\n",
       "      <th>23</th>\n",
       "      <td>0.044442</td>\n",
       "      <td>0.000027</td>\n",
       "      <td>0.044431</td>\n",
       "      <td>0.000016</td>\n",
       "    </tr>\n",
       "    <tr>\n",
       "      <th>24</th>\n",
       "      <td>0.040606</td>\n",
       "      <td>0.000024</td>\n",
       "      <td>0.040596</td>\n",
       "      <td>0.000013</td>\n",
       "    </tr>\n",
       "    <tr>\n",
       "      <th>25</th>\n",
       "      <td>0.037175</td>\n",
       "      <td>0.000034</td>\n",
       "      <td>0.037166</td>\n",
       "      <td>0.000014</td>\n",
       "    </tr>\n",
       "    <tr>\n",
       "      <th>26</th>\n",
       "      <td>0.034109</td>\n",
       "      <td>0.000035</td>\n",
       "      <td>0.034100</td>\n",
       "      <td>0.000021</td>\n",
       "    </tr>\n",
       "    <tr>\n",
       "      <th>27</th>\n",
       "      <td>0.031374</td>\n",
       "      <td>0.000038</td>\n",
       "      <td>0.031365</td>\n",
       "      <td>0.000016</td>\n",
       "    </tr>\n",
       "    <tr>\n",
       "      <th>28</th>\n",
       "      <td>0.028944</td>\n",
       "      <td>0.000031</td>\n",
       "      <td>0.028934</td>\n",
       "      <td>0.000013</td>\n",
       "    </tr>\n",
       "    <tr>\n",
       "      <th>29</th>\n",
       "      <td>0.026782</td>\n",
       "      <td>0.000035</td>\n",
       "      <td>0.026771</td>\n",
       "      <td>0.000012</td>\n",
       "    </tr>\n",
       "    <tr>\n",
       "      <th>...</th>\n",
       "      <td>...</td>\n",
       "      <td>...</td>\n",
       "      <td>...</td>\n",
       "      <td>...</td>\n",
       "    </tr>\n",
       "    <tr>\n",
       "      <th>970</th>\n",
       "      <td>0.006396</td>\n",
       "      <td>0.000028</td>\n",
       "      <td>0.006298</td>\n",
       "      <td>0.000013</td>\n",
       "    </tr>\n",
       "    <tr>\n",
       "      <th>971</th>\n",
       "      <td>0.006395</td>\n",
       "      <td>0.000027</td>\n",
       "      <td>0.006296</td>\n",
       "      <td>0.000013</td>\n",
       "    </tr>\n",
       "    <tr>\n",
       "      <th>972</th>\n",
       "      <td>0.006394</td>\n",
       "      <td>0.000027</td>\n",
       "      <td>0.006295</td>\n",
       "      <td>0.000013</td>\n",
       "    </tr>\n",
       "    <tr>\n",
       "      <th>973</th>\n",
       "      <td>0.006392</td>\n",
       "      <td>0.000026</td>\n",
       "      <td>0.006294</td>\n",
       "      <td>0.000011</td>\n",
       "    </tr>\n",
       "    <tr>\n",
       "      <th>974</th>\n",
       "      <td>0.006391</td>\n",
       "      <td>0.000027</td>\n",
       "      <td>0.006292</td>\n",
       "      <td>0.000012</td>\n",
       "    </tr>\n",
       "    <tr>\n",
       "      <th>975</th>\n",
       "      <td>0.006389</td>\n",
       "      <td>0.000027</td>\n",
       "      <td>0.006290</td>\n",
       "      <td>0.000012</td>\n",
       "    </tr>\n",
       "    <tr>\n",
       "      <th>976</th>\n",
       "      <td>0.006388</td>\n",
       "      <td>0.000028</td>\n",
       "      <td>0.006289</td>\n",
       "      <td>0.000012</td>\n",
       "    </tr>\n",
       "    <tr>\n",
       "      <th>977</th>\n",
       "      <td>0.006385</td>\n",
       "      <td>0.000028</td>\n",
       "      <td>0.006286</td>\n",
       "      <td>0.000012</td>\n",
       "    </tr>\n",
       "    <tr>\n",
       "      <th>978</th>\n",
       "      <td>0.006383</td>\n",
       "      <td>0.000028</td>\n",
       "      <td>0.006285</td>\n",
       "      <td>0.000012</td>\n",
       "    </tr>\n",
       "    <tr>\n",
       "      <th>979</th>\n",
       "      <td>0.006383</td>\n",
       "      <td>0.000028</td>\n",
       "      <td>0.006284</td>\n",
       "      <td>0.000012</td>\n",
       "    </tr>\n",
       "    <tr>\n",
       "      <th>980</th>\n",
       "      <td>0.006382</td>\n",
       "      <td>0.000029</td>\n",
       "      <td>0.006282</td>\n",
       "      <td>0.000013</td>\n",
       "    </tr>\n",
       "    <tr>\n",
       "      <th>981</th>\n",
       "      <td>0.006381</td>\n",
       "      <td>0.000028</td>\n",
       "      <td>0.006282</td>\n",
       "      <td>0.000013</td>\n",
       "    </tr>\n",
       "    <tr>\n",
       "      <th>982</th>\n",
       "      <td>0.006380</td>\n",
       "      <td>0.000027</td>\n",
       "      <td>0.006280</td>\n",
       "      <td>0.000013</td>\n",
       "    </tr>\n",
       "    <tr>\n",
       "      <th>983</th>\n",
       "      <td>0.006379</td>\n",
       "      <td>0.000027</td>\n",
       "      <td>0.006279</td>\n",
       "      <td>0.000013</td>\n",
       "    </tr>\n",
       "    <tr>\n",
       "      <th>984</th>\n",
       "      <td>0.006378</td>\n",
       "      <td>0.000027</td>\n",
       "      <td>0.006278</td>\n",
       "      <td>0.000012</td>\n",
       "    </tr>\n",
       "    <tr>\n",
       "      <th>985</th>\n",
       "      <td>0.006376</td>\n",
       "      <td>0.000027</td>\n",
       "      <td>0.006277</td>\n",
       "      <td>0.000012</td>\n",
       "    </tr>\n",
       "    <tr>\n",
       "      <th>986</th>\n",
       "      <td>0.006375</td>\n",
       "      <td>0.000026</td>\n",
       "      <td>0.006275</td>\n",
       "      <td>0.000011</td>\n",
       "    </tr>\n",
       "    <tr>\n",
       "      <th>987</th>\n",
       "      <td>0.006374</td>\n",
       "      <td>0.000027</td>\n",
       "      <td>0.006274</td>\n",
       "      <td>0.000011</td>\n",
       "    </tr>\n",
       "    <tr>\n",
       "      <th>988</th>\n",
       "      <td>0.006372</td>\n",
       "      <td>0.000027</td>\n",
       "      <td>0.006273</td>\n",
       "      <td>0.000010</td>\n",
       "    </tr>\n",
       "    <tr>\n",
       "      <th>989</th>\n",
       "      <td>0.006370</td>\n",
       "      <td>0.000027</td>\n",
       "      <td>0.006271</td>\n",
       "      <td>0.000010</td>\n",
       "    </tr>\n",
       "    <tr>\n",
       "      <th>990</th>\n",
       "      <td>0.006369</td>\n",
       "      <td>0.000027</td>\n",
       "      <td>0.006270</td>\n",
       "      <td>0.000010</td>\n",
       "    </tr>\n",
       "    <tr>\n",
       "      <th>991</th>\n",
       "      <td>0.006368</td>\n",
       "      <td>0.000027</td>\n",
       "      <td>0.006268</td>\n",
       "      <td>0.000011</td>\n",
       "    </tr>\n",
       "    <tr>\n",
       "      <th>992</th>\n",
       "      <td>0.006367</td>\n",
       "      <td>0.000027</td>\n",
       "      <td>0.006267</td>\n",
       "      <td>0.000010</td>\n",
       "    </tr>\n",
       "    <tr>\n",
       "      <th>993</th>\n",
       "      <td>0.006366</td>\n",
       "      <td>0.000027</td>\n",
       "      <td>0.006266</td>\n",
       "      <td>0.000010</td>\n",
       "    </tr>\n",
       "    <tr>\n",
       "      <th>994</th>\n",
       "      <td>0.006365</td>\n",
       "      <td>0.000027</td>\n",
       "      <td>0.006264</td>\n",
       "      <td>0.000010</td>\n",
       "    </tr>\n",
       "    <tr>\n",
       "      <th>995</th>\n",
       "      <td>0.006363</td>\n",
       "      <td>0.000027</td>\n",
       "      <td>0.006263</td>\n",
       "      <td>0.000010</td>\n",
       "    </tr>\n",
       "    <tr>\n",
       "      <th>996</th>\n",
       "      <td>0.006362</td>\n",
       "      <td>0.000028</td>\n",
       "      <td>0.006262</td>\n",
       "      <td>0.000011</td>\n",
       "    </tr>\n",
       "    <tr>\n",
       "      <th>997</th>\n",
       "      <td>0.006360</td>\n",
       "      <td>0.000028</td>\n",
       "      <td>0.006259</td>\n",
       "      <td>0.000011</td>\n",
       "    </tr>\n",
       "    <tr>\n",
       "      <th>998</th>\n",
       "      <td>0.006358</td>\n",
       "      <td>0.000029</td>\n",
       "      <td>0.006258</td>\n",
       "      <td>0.000011</td>\n",
       "    </tr>\n",
       "    <tr>\n",
       "      <th>999</th>\n",
       "      <td>0.006356</td>\n",
       "      <td>0.000028</td>\n",
       "      <td>0.006255</td>\n",
       "      <td>0.000011</td>\n",
       "    </tr>\n",
       "  </tbody>\n",
       "</table>\n",
       "<p>1000 rows × 4 columns</p>\n",
       "</div>"
      ],
      "text/plain": [
       "     test-mae-mean  test-mae-std  train-mae-mean  train-mae-std\n",
       "0         0.430228      0.000056        0.430228       0.000014\n",
       "1         0.389201      0.000052        0.389202       0.000012\n",
       "2         0.352077      0.000048        0.352078       0.000010\n",
       "3         0.318494      0.000046        0.318494       0.000010\n",
       "4         0.288104      0.000041        0.288106       0.000009\n",
       "5         0.260616      0.000040        0.260618       0.000010\n",
       "6         0.235746      0.000039        0.235748       0.000009\n",
       "7         0.213254      0.000036        0.213256       0.000008\n",
       "8         0.192909      0.000031        0.192909       0.000011\n",
       "9         0.174513      0.000031        0.174513       0.000011\n",
       "10        0.157884      0.000026        0.157882       0.000014\n",
       "11        0.142852      0.000021        0.142850       0.000015\n",
       "12        0.129266      0.000021        0.129263       0.000012\n",
       "13        0.116988      0.000018        0.116985       0.000014\n",
       "14        0.105904      0.000021        0.105899       0.000017\n",
       "15        0.095897      0.000024        0.095890       0.000021\n",
       "16        0.086864      0.000026        0.086856       0.000022\n",
       "17        0.078717      0.000024        0.078709       0.000022\n",
       "18        0.071375      0.000030        0.071368       0.000022\n",
       "19        0.064769      0.000028        0.064760       0.000022\n",
       "20        0.058832      0.000026        0.058823       0.000022\n",
       "21        0.053505      0.000026        0.053494       0.000020\n",
       "22        0.048730      0.000028        0.048718       0.000016\n",
       "23        0.044442      0.000027        0.044431       0.000016\n",
       "24        0.040606      0.000024        0.040596       0.000013\n",
       "25        0.037175      0.000034        0.037166       0.000014\n",
       "26        0.034109      0.000035        0.034100       0.000021\n",
       "27        0.031374      0.000038        0.031365       0.000016\n",
       "28        0.028944      0.000031        0.028934       0.000013\n",
       "29        0.026782      0.000035        0.026771       0.000012\n",
       "..             ...           ...             ...            ...\n",
       "970       0.006396      0.000028        0.006298       0.000013\n",
       "971       0.006395      0.000027        0.006296       0.000013\n",
       "972       0.006394      0.000027        0.006295       0.000013\n",
       "973       0.006392      0.000026        0.006294       0.000011\n",
       "974       0.006391      0.000027        0.006292       0.000012\n",
       "975       0.006389      0.000027        0.006290       0.000012\n",
       "976       0.006388      0.000028        0.006289       0.000012\n",
       "977       0.006385      0.000028        0.006286       0.000012\n",
       "978       0.006383      0.000028        0.006285       0.000012\n",
       "979       0.006383      0.000028        0.006284       0.000012\n",
       "980       0.006382      0.000029        0.006282       0.000013\n",
       "981       0.006381      0.000028        0.006282       0.000013\n",
       "982       0.006380      0.000027        0.006280       0.000013\n",
       "983       0.006379      0.000027        0.006279       0.000013\n",
       "984       0.006378      0.000027        0.006278       0.000012\n",
       "985       0.006376      0.000027        0.006277       0.000012\n",
       "986       0.006375      0.000026        0.006275       0.000011\n",
       "987       0.006374      0.000027        0.006274       0.000011\n",
       "988       0.006372      0.000027        0.006273       0.000010\n",
       "989       0.006370      0.000027        0.006271       0.000010\n",
       "990       0.006369      0.000027        0.006270       0.000010\n",
       "991       0.006368      0.000027        0.006268       0.000011\n",
       "992       0.006367      0.000027        0.006267       0.000010\n",
       "993       0.006366      0.000027        0.006266       0.000010\n",
       "994       0.006365      0.000027        0.006264       0.000010\n",
       "995       0.006363      0.000027        0.006263       0.000010\n",
       "996       0.006362      0.000028        0.006262       0.000011\n",
       "997       0.006360      0.000028        0.006259       0.000011\n",
       "998       0.006358      0.000029        0.006258       0.000011\n",
       "999       0.006356      0.000028        0.006255       0.000011\n",
       "\n",
       "[1000 rows x 4 columns]"
      ]
     },
     "execution_count": 56,
     "metadata": {},
     "output_type": "execute_result"
    }
   ],
   "source": [
    "print clf.get_params()['n_estimators']\n",
    "\n",
    "print cvresult.min()\n",
    "\n",
    "cvresult"
   ]
  },
  {
   "cell_type": "code",
   "execution_count": 105,
   "metadata": {
    "collapsed": false,
    "scrolled": true
   },
   "outputs": [
    {
     "data": {
      "text/plain": [
       "{'base_score': 0.5,\n",
       " 'colsample_bylevel': 1,\n",
       " 'colsample_bytree': 0.8,\n",
       " 'gamma': 0,\n",
       " 'learning_rate': 0.1,\n",
       " 'max_delta_step': 0,\n",
       " 'max_depth': 5,\n",
       " 'min_child_weight': 1,\n",
       " 'missing': None,\n",
       " 'n_estimators': 1000,\n",
       " 'nthread': 8,\n",
       " 'objective': 'count:poisson',\n",
       " 'reg_alpha': 0,\n",
       " 'reg_lambda': 1,\n",
       " 'scale_pos_weight': 1,\n",
       " 'seed': 27,\n",
       " 'silent': True,\n",
       " 'subsample': 0.8}"
      ]
     },
     "execution_count": 105,
     "metadata": {},
     "output_type": "execute_result"
    }
   ],
   "source": [
    "clf.get_params()"
   ]
  },
  {
   "cell_type": "markdown",
   "metadata": {},
   "source": [
    "#### Step 2: Tune max_depth and min_child_weight"
   ]
  },
  {
   "cell_type": "code",
   "execution_count": 106,
   "metadata": {
    "collapsed": false,
    "scrolled": false
   },
   "outputs": [
    {
     "name": "stdout",
     "output_type": "stream",
     "text": [
      "[mean: -0.00019, std: 0.00001, params: {'max_depth': 3, 'min_child_weight': 1}, mean: -0.00019, std: 0.00001, params: {'max_depth': 3, 'min_child_weight': 3}, mean: -0.00018, std: 0.00001, params: {'max_depth': 3, 'min_child_weight': 5}, mean: -0.00011, std: 0.00001, params: {'max_depth': 5, 'min_child_weight': 1}, mean: -0.00011, std: 0.00001, params: {'max_depth': 5, 'min_child_weight': 3}, mean: -0.00011, std: 0.00000, params: {'max_depth': 5, 'min_child_weight': 5}, mean: -0.00008, std: 0.00000, params: {'max_depth': 7, 'min_child_weight': 1}, mean: -0.00008, std: 0.00000, params: {'max_depth': 7, 'min_child_weight': 3}, mean: -0.00008, std: 0.00000, params: {'max_depth': 7, 'min_child_weight': 5}, mean: -0.00006, std: 0.00000, params: {'max_depth': 9, 'min_child_weight': 1}, mean: -0.00007, std: 0.00000, params: {'max_depth': 9, 'min_child_weight': 3}, mean: -0.00007, std: 0.00000, params: {'max_depth': 9, 'min_child_weight': 5}] {'max_depth': 9, 'min_child_weight': 1} -6.39671278857e-05\n"
     ]
    }
   ],
   "source": [
    "param_test1 = {\n",
    " 'max_depth':range(3,10,2),\n",
    " 'min_child_weight':range(1,6,2)\n",
    "}\n",
    "\n",
    "# Use the estimator and learning_rate above to for grid search\n",
    "clf = xgb.XGBRegressor(\n",
    "    learning_rate =0.1,\n",
    "    n_estimators=1000,\n",
    "    max_depth=5,\n",
    "    min_child_weight=1,\n",
    "    gamma=0,\n",
    "    subsample=0.8,\n",
    "    colsample_bytree=0.8,\n",
    "    scale_pos_weight = 1,\n",
    "    objective='count:poisson',\n",
    "    nthread=8,\n",
    "    seed=27)\n",
    "\n",
    "gsearch1 = GridSearchCV(estimator = clf, param_grid = param_test1, scoring='neg_mean_squared_error',n_jobs=-1,iid=False, cv=5)\n",
    "gsearch1.fit(train_features_scale, train_labels_scale)\n",
    "print gsearch1.grid_scores_, gsearch1.best_params_, gsearch1.best_score_"
   ]
  },
  {
   "cell_type": "code",
   "execution_count": 112,
   "metadata": {
    "collapsed": false
   },
   "outputs": [
    {
     "name": "stdout",
     "output_type": "stream",
     "text": [
      "{'max_depth': 9, 'min_child_weight': 1}\n",
      "-6.39671278857e-05\n",
      "XGBRegressor(base_score=0.5, colsample_bylevel=1, colsample_bytree=0.8,\n",
      "       gamma=0, learning_rate=0.1, max_delta_step=0, max_depth=9,\n",
      "       min_child_weight=1, missing=None, n_estimators=1000, nthread=8,\n",
      "       objective='count:poisson', reg_alpha=0, reg_lambda=1,\n",
      "       scale_pos_weight=1, seed=27, silent=True, subsample=0.8)\n"
     ]
    }
   ],
   "source": [
    "print gsearch1.best_params_\n",
    "print gsearch1.best_score_\n",
    "print gsearch1.best_estimator_"
   ]
  },
  {
   "cell_type": "code",
   "execution_count": null,
   "metadata": {
    "collapsed": true,
    "scrolled": true
   },
   "outputs": [],
   "source": [
    "param_test2b = {\n",
    " 'min_child_weight':[6,8,10,12]\n",
    "}\n",
    "gsearch2b = GridSearchCV(estimator = xgb.XGBRegressor(learning_rate=0.1, n_estimators=1000, max_depth=9,\n",
    " min_child_weight=1, gamma=0, subsample=0.8, colsample_bytree=0.8,\n",
    " objective= 'count:poisson', nthread=8, scale_pos_weight=1,seed=27), \n",
    " param_grid = param_test2b, scoring='neg_mean_squared_error',n_jobs=-1,iid=False, cv=5)\n",
    "gsearch2b.fit(train_features_scale, train_labels_scale)\n",
    "modelfit(gsearch3.best_estimator_, train, predictors)\n",
    "gsearch2b.grid_scores_, gsearch2b.best_params_, gsearch2b.best_score_"
   ]
  },
  {
   "cell_type": "markdown",
   "metadata": {},
   "source": [
    "#### Step 3: Tune gamma"
   ]
  },
  {
   "cell_type": "code",
   "execution_count": null,
   "metadata": {
    "collapsed": true,
    "scrolled": true
   },
   "outputs": [],
   "source": [
    "param_test3 = {\n",
    " 'gamma':[i/10.0 for i in range(0,5)]\n",
    "}\n",
    "gsearch3 = GridSearchCV(estimator = xgb.XGBRegressor(learning_rate =0.1, n_estimators=1000, max_depth=9,\n",
    " min_child_weight=1, gamma=0, subsample=0.8, colsample_bytree=0.8,\n",
    " objective= 'count:poisson', nthread=8, scale_pos_weight=1,seed=27), \n",
    " param_grid = param_test3, scoring='neg_mean_squared_error',n_jobs=-1,iid=False, cv=5)\n",
    "gsearch3.fit(train_features_scale, train_labels_scale)\n",
    "gsearch3.grid_scores_, gsearch3.best_params_, gsearch3.best_score_"
   ]
  },
  {
   "cell_type": "markdown",
   "metadata": {},
   "source": [
    "Output --->>>\n",
    "\n",
    "[mean: -0.00007, std: 0.00000, params: {'gamma': 0.0}, mean: -0.00008, std: 0.00000, params: {'gamma': 0.1}, mean: -0.00010, std: 0.00000, params: {'gamma': 0.2}, mean: -0.00011, std: 0.00000, params: {'gamma': 0.3}, mean: -0.00011, std: 0.00000, params: {'gamma': 0.4}]\n",
    "\n",
    "{'gamma': 0.0}\n",
    "\n",
    "-6.5072929476e-05\n",
    "\n",
    "Score :  0.888063331"
   ]
  },
  {
   "cell_type": "markdown",
   "metadata": {},
   "source": [
    "#### Step 4: Tune subsample and colsample_bytree"
   ]
  },
  {
   "cell_type": "code",
   "execution_count": null,
   "metadata": {
    "collapsed": true,
    "scrolled": true
   },
   "outputs": [],
   "source": [
    "param_test4 = {\n",
    " 'subsample':[i/10.0 for i in range(6,10)],\n",
    " 'colsample_bytree':[i/10.0 for i in range(6,10)]\n",
    "}\n",
    "gsearch4 = GridSearchCV(estimator = xgb.XGBRegressor( learning_rate =0.1, n_estimators=1000, max_depth=9,\n",
    " min_child_weight=1, gamma=0, subsample=0.8, colsample_bytree=0.9,\n",
    " objective= 'count:poisson', nthread=8, scale_pos_weight=1,seed=27), \n",
    " param_grid = param_test4, scoring='neg_mean_squared_error',n_jobs=-1,iid=False, cv=5)\n",
    "gsearch4.fit(train_features_scale, train_labels_scale)\n",
    "gsearch4.grid_scores_, gsearch4.best_params_, gsearch4.best_score_"
   ]
  },
  {
   "cell_type": "markdown",
   "metadata": {},
   "source": [
    "{'subsample': 0.8, 'colsample_bytree': 0.9}\n",
    "\n",
    "-6.43601744369e-05\n",
    "\n",
    "Train time:  28280.336 s"
   ]
  },
  {
   "cell_type": "markdown",
   "metadata": {},
   "source": [
    "#### Step 5: Tuning Regularization Parameters"
   ]
  },
  {
   "cell_type": "code",
   "execution_count": null,
   "metadata": {
    "collapsed": true,
    "scrolled": true
   },
   "outputs": [],
   "source": [
    "param_test6 = {\n",
    " 'reg_alpha':[1e-5, 1e-2, 0.1, 1, 100]\n",
    "}\n",
    "gsearch6 = GridSearchCV(estimator = xgb.XGBRegressor( learning_rate =0.1, n_estimators=1000, max_depth=9,\n",
    " min_child_weight=1, gamma=0, subsample=0.8, colsample_bytree=0.9,\n",
    " objective= 'count:poisson', nthread=8, scale_pos_weight=1,seed=27), \n",
    " param_grid = param_test6, scoring='neg_mean_squared_error',n_jobs=-1,iid=False, cv=5)\n",
    "gsearch6.fit(train_features_scale, train_labels_scale)\n",
    "gsearch6.grid_scores_, gsearch6.best_params_, gsearch6.best_score_"
   ]
  },
  {
   "cell_type": "markdown",
   "metadata": {},
   "source": [
    "[mean: -0.00006, std: 0.00000, params: {'reg_alpha': 1e-05}, mean: -0.00006, std: 0.00000, params:\\\n",
    " {'reg_alpha': 0.01}, mean: -0.00006, std: 0.00000, params: {'reg_alpha': 0.1}, mean: -0.00007, st\\\n",
    "d: 0.00000, params: {'reg_alpha': 1}, mean: -0.00042, std: 0.00002, params: {'reg_alpha': 100}]\n",
    "\n",
    "{'reg_alpha': 0.1}\n",
    "\n",
    "-5.98067147561e-05"
   ]
  },
  {
   "cell_type": "code",
   "execution_count": null,
   "metadata": {
    "collapsed": true,
    "scrolled": true
   },
   "outputs": [],
   "source": [
    "param_test7 = {\n",
    " 'reg_alpha':[0, 0.001, 0.005, 0.01, 0.05]\n",
    "}\n",
    "gsearch7 = GridSearchCV(estimator = xgb.XGBRegressor( learning_rate=0.1, n_estimators=1000, max_depth=9,\n",
    " min_child_weight=1, gamma=0, subsample=0.8, colsample_bytree=0.9,reg_alpha=0.1\n",
    " objective= 'count:poisson', nthread=8, scale_pos_weight=1,seed=27), \n",
    " param_grid = param_test7, scoring='neg_mean_squared_error',n_jobs=-1,iid=False, cv=5)\n",
    "gsearch7.fit(train_features_scale, train_labels_scale)\n",
    "gsearch7.grid_scores_, gsearch7.best_params_, gsearch7.best_score_"
   ]
  },
  {
   "cell_type": "markdown",
   "metadata": {},
   "source": [
    "#### See final result"
   ]
  },
  {
   "cell_type": "code",
   "execution_count": 123,
   "metadata": {
    "collapsed": false,
    "scrolled": true
   },
   "outputs": [
    {
     "name": "stdout",
     "output_type": "stream",
     "text": [
      "Model Report \n",
      "\n",
      "Score : "
     ]
    },
    {
     "ename": "ValueError",
     "evalue": "Input contains NaN, infinity or a value too large for dtype('float32').",
     "output_type": "error",
     "traceback": [
      "\u001b[0;31m---------------------------------------------------------------------------\u001b[0m",
      "\u001b[0;31mValueError\u001b[0m                                Traceback (most recent call last)",
      "\u001b[0;32m<ipython-input-123-5482418ae348>\u001b[0m in \u001b[0;36m<module>\u001b[0;34m()\u001b[0m\n\u001b[1;32m     26\u001b[0m \u001b[0;31m#Print model report:\u001b[0m\u001b[0;34m\u001b[0m\u001b[0;34m\u001b[0m\u001b[0m\n\u001b[1;32m     27\u001b[0m \u001b[0;32mprint\u001b[0m \u001b[0;34m\"Model Report \\n\"\u001b[0m\u001b[0;34m\u001b[0m\u001b[0m\n\u001b[0;32m---> 28\u001b[0;31m \u001b[0;32mprint\u001b[0m \u001b[0;34m\"Score : \"\u001b[0m\u001b[0;34m,\u001b[0m \u001b[0mxgb3\u001b[0m\u001b[0;34m.\u001b[0m\u001b[0mscore\u001b[0m\u001b[0;34m(\u001b[0m\u001b[0mtest_features\u001b[0m\u001b[0;34m,\u001b[0m \u001b[0mtest_labels\u001b[0m\u001b[0;34m)\u001b[0m\u001b[0;34m\u001b[0m\u001b[0m\n\u001b[0m\u001b[1;32m     29\u001b[0m \u001b[0;32mprint\u001b[0m \u001b[0;34m\"Mean Square Error : \"\u001b[0m\u001b[0;34m,\u001b[0m \u001b[0mmean_squared_error\u001b[0m\u001b[0;34m(\u001b[0m\u001b[0mtest_labels\u001b[0m\u001b[0;34m,\u001b[0m \u001b[0mpred\u001b[0m\u001b[0;34m)\u001b[0m\u001b[0;34m\u001b[0m\u001b[0m\n",
      "\u001b[0;32m/Users/michaelfeng/code/tf/venv/lib/python2.7/site-packages/sklearn/base.pyc\u001b[0m in \u001b[0;36mscore\u001b[0;34m(self, X, y, sample_weight)\u001b[0m\n\u001b[1;32m    385\u001b[0m         \u001b[0;32mfrom\u001b[0m \u001b[0;34m.\u001b[0m\u001b[0mmetrics\u001b[0m \u001b[0;32mimport\u001b[0m \u001b[0mr2_score\u001b[0m\u001b[0;34m\u001b[0m\u001b[0m\n\u001b[1;32m    386\u001b[0m         return r2_score(y, self.predict(X), sample_weight=sample_weight,\n\u001b[0;32m--> 387\u001b[0;31m                         multioutput='variance_weighted')\n\u001b[0m\u001b[1;32m    388\u001b[0m \u001b[0;34m\u001b[0m\u001b[0m\n\u001b[1;32m    389\u001b[0m \u001b[0;34m\u001b[0m\u001b[0m\n",
      "\u001b[0;32m/Users/michaelfeng/code/tf/venv/lib/python2.7/site-packages/sklearn/metrics/regression.pyc\u001b[0m in \u001b[0;36mr2_score\u001b[0;34m(y_true, y_pred, sample_weight, multioutput)\u001b[0m\n\u001b[1;32m    453\u001b[0m     \"\"\"\n\u001b[1;32m    454\u001b[0m     y_type, y_true, y_pred, multioutput = _check_reg_targets(\n\u001b[0;32m--> 455\u001b[0;31m         y_true, y_pred, multioutput)\n\u001b[0m\u001b[1;32m    456\u001b[0m \u001b[0;34m\u001b[0m\u001b[0m\n\u001b[1;32m    457\u001b[0m     \u001b[0;32mif\u001b[0m \u001b[0msample_weight\u001b[0m \u001b[0;32mis\u001b[0m \u001b[0;32mnot\u001b[0m \u001b[0mNone\u001b[0m\u001b[0;34m:\u001b[0m\u001b[0;34m\u001b[0m\u001b[0m\n",
      "\u001b[0;32m/Users/michaelfeng/code/tf/venv/lib/python2.7/site-packages/sklearn/metrics/regression.pyc\u001b[0m in \u001b[0;36m_check_reg_targets\u001b[0;34m(y_true, y_pred, multioutput)\u001b[0m\n\u001b[1;32m     74\u001b[0m     \u001b[0mcheck_consistent_length\u001b[0m\u001b[0;34m(\u001b[0m\u001b[0my_true\u001b[0m\u001b[0;34m,\u001b[0m \u001b[0my_pred\u001b[0m\u001b[0;34m)\u001b[0m\u001b[0;34m\u001b[0m\u001b[0m\n\u001b[1;32m     75\u001b[0m     \u001b[0my_true\u001b[0m \u001b[0;34m=\u001b[0m \u001b[0mcheck_array\u001b[0m\u001b[0;34m(\u001b[0m\u001b[0my_true\u001b[0m\u001b[0;34m,\u001b[0m \u001b[0mensure_2d\u001b[0m\u001b[0;34m=\u001b[0m\u001b[0mFalse\u001b[0m\u001b[0;34m)\u001b[0m\u001b[0;34m\u001b[0m\u001b[0m\n\u001b[0;32m---> 76\u001b[0;31m     \u001b[0my_pred\u001b[0m \u001b[0;34m=\u001b[0m \u001b[0mcheck_array\u001b[0m\u001b[0;34m(\u001b[0m\u001b[0my_pred\u001b[0m\u001b[0;34m,\u001b[0m \u001b[0mensure_2d\u001b[0m\u001b[0;34m=\u001b[0m\u001b[0mFalse\u001b[0m\u001b[0;34m)\u001b[0m\u001b[0;34m\u001b[0m\u001b[0m\n\u001b[0m\u001b[1;32m     77\u001b[0m \u001b[0;34m\u001b[0m\u001b[0m\n\u001b[1;32m     78\u001b[0m     \u001b[0;32mif\u001b[0m \u001b[0my_true\u001b[0m\u001b[0;34m.\u001b[0m\u001b[0mndim\u001b[0m \u001b[0;34m==\u001b[0m \u001b[0;36m1\u001b[0m\u001b[0;34m:\u001b[0m\u001b[0;34m\u001b[0m\u001b[0m\n",
      "\u001b[0;32m/Users/michaelfeng/code/tf/venv/lib/python2.7/site-packages/sklearn/utils/validation.pyc\u001b[0m in \u001b[0;36mcheck_array\u001b[0;34m(array, accept_sparse, dtype, order, copy, force_all_finite, ensure_2d, allow_nd, ensure_min_samples, ensure_min_features, warn_on_dtype, estimator)\u001b[0m\n\u001b[1;32m    405\u001b[0m                              % (array.ndim, estimator_name))\n\u001b[1;32m    406\u001b[0m         \u001b[0;32mif\u001b[0m \u001b[0mforce_all_finite\u001b[0m\u001b[0;34m:\u001b[0m\u001b[0;34m\u001b[0m\u001b[0m\n\u001b[0;32m--> 407\u001b[0;31m             \u001b[0m_assert_all_finite\u001b[0m\u001b[0;34m(\u001b[0m\u001b[0marray\u001b[0m\u001b[0;34m)\u001b[0m\u001b[0;34m\u001b[0m\u001b[0m\n\u001b[0m\u001b[1;32m    408\u001b[0m \u001b[0;34m\u001b[0m\u001b[0m\n\u001b[1;32m    409\u001b[0m     \u001b[0mshape_repr\u001b[0m \u001b[0;34m=\u001b[0m \u001b[0m_shape_repr\u001b[0m\u001b[0;34m(\u001b[0m\u001b[0marray\u001b[0m\u001b[0;34m.\u001b[0m\u001b[0mshape\u001b[0m\u001b[0;34m)\u001b[0m\u001b[0;34m\u001b[0m\u001b[0m\n",
      "\u001b[0;32m/Users/michaelfeng/code/tf/venv/lib/python2.7/site-packages/sklearn/utils/validation.pyc\u001b[0m in \u001b[0;36m_assert_all_finite\u001b[0;34m(X)\u001b[0m\n\u001b[1;32m     56\u001b[0m             and not np.isfinite(X).all()):\n\u001b[1;32m     57\u001b[0m         raise ValueError(\"Input contains NaN, infinity\"\n\u001b[0;32m---> 58\u001b[0;31m                          \" or a value too large for %r.\" % X.dtype)\n\u001b[0m\u001b[1;32m     59\u001b[0m \u001b[0;34m\u001b[0m\u001b[0m\n\u001b[1;32m     60\u001b[0m \u001b[0;34m\u001b[0m\u001b[0m\n",
      "\u001b[0;31mValueError\u001b[0m: Input contains NaN, infinity or a value too large for dtype('float32')."
     ]
    }
   ],
   "source": [
    "xgb3 = xgb.XGBRegressor(\n",
    " learning_rate =0.1,\n",
    " n_estimators=1000,\n",
    " max_depth=9,\n",
    " min_child_weight=1,\n",
    " gamma=0,\n",
    " subsample=0.8,\n",
    " colsample_bytree=0.9,\n",
    " reg_alpha=0.1,\n",
    " objective= 'reg:linear',\n",
    " nthread=8,\n",
    " scale_pos_weight=1,\n",
    " eval_metric = \"rmse\",\n",
    " seed=27)\n",
    "\n",
    "start = time()\n",
    "scaler1 = MinMaxScaler()\n",
    "scaler2 = MinMaxScaler()\n",
    "train_features_scale = scaler1.fit_transform(train_features)\n",
    "train_labels_scale = scaler2.fit_transform(train_labels)\n",
    "\n",
    "test_features_scale = scaler1.fit_transform(test_features)\n",
    "test_labels_scale = scaler2.fit_transform(test_labels)\n",
    "xgb3.fit(train_features_scale, train_labels_scale)\n",
    "pred = xgb3.predict(train_labels_scale)\n",
    "\n",
    "#Print model report:\n",
    "print \"Model Report \\n\"\n",
    "print \"Score : \", xgb3.score(test_features_scale, test_labels_scale)\n",
    "print \"Mean Square Error : \", mean_squared_error(test_labels, scaler2.inverse_transform(pred))"
   ]
  },
  {
   "cell_type": "markdown",
   "metadata": {},
   "source": [
    "#### Step 6: Reducing Learning Rate"
   ]
  },
  {
   "cell_type": "code",
   "execution_count": null,
   "metadata": {
    "collapsed": true,
    "scrolled": true
   },
   "outputs": [],
   "source": [
    "xgb4 = xgb.XGBRegressor(\n",
    " learning_rate =0.01,\n",
    " n_estimators=1000,\n",
    " max_depth=9,\n",
    " min_child_weight=1,\n",
    " gamma=0,\n",
    " subsample=0.8,\n",
    " colsample_bytree=0.9,\n",
    " reg_alpha=0.1,\n",
    " objective= 'reg:linear',\n",
    " nthread=8,\n",
    " scale_pos_weight=1,\n",
    " seed=27)\n",
    "modelfit(xgb4, train, predictors)"
   ]
  },
  {
   "cell_type": "markdown",
   "metadata": {
    "deletable": true,
    "editable": true
   },
   "source": [
    "## SGDRegressor算法训练"
   ]
  },
  {
   "cell_type": "code",
   "execution_count": 38,
   "metadata": {
    "collapsed": false,
    "deletable": true,
    "editable": true,
    "scrolled": true
   },
   "outputs": [
    {
     "name": "stderr",
     "output_type": "stream",
     "text": [
      "/Users/michaelfeng/code/tf/venv/lib/python2.7/site-packages/sklearn/preprocessing/data.py:321: DeprecationWarning: Passing 1d arrays as data is deprecated in 0.17 and will raise ValueError in 0.19. Reshape your data either using X.reshape(-1, 1) if your data has a single feature or X.reshape(1, -1) if it contains a single sample.\n",
      "  warnings.warn(DEPRECATION_MSG_1D, DeprecationWarning)\n",
      "/Users/michaelfeng/code/tf/venv/lib/python2.7/site-packages/sklearn/preprocessing/data.py:356: DeprecationWarning: Passing 1d arrays as data is deprecated in 0.17 and will raise ValueError in 0.19. Reshape your data either using X.reshape(-1, 1) if your data has a single feature or X.reshape(1, -1) if it contains a single sample.\n",
      "  warnings.warn(DEPRECATION_MSG_1D, DeprecationWarning)\n",
      "/Users/michaelfeng/code/tf/venv/lib/python2.7/site-packages/sklearn/preprocessing/data.py:321: DeprecationWarning: Passing 1d arrays as data is deprecated in 0.17 and will raise ValueError in 0.19. Reshape your data either using X.reshape(-1, 1) if your data has a single feature or X.reshape(1, -1) if it contains a single sample.\n",
      "  warnings.warn(DEPRECATION_MSG_1D, DeprecationWarning)\n",
      "/Users/michaelfeng/code/tf/venv/lib/python2.7/site-packages/sklearn/preprocessing/data.py:356: DeprecationWarning: Passing 1d arrays as data is deprecated in 0.17 and will raise ValueError in 0.19. Reshape your data either using X.reshape(-1, 1) if your data has a single feature or X.reshape(1, -1) if it contains a single sample.\n",
      "  warnings.warn(DEPRECATION_MSG_1D, DeprecationWarning)\n"
     ]
    },
    {
     "name": "stdout",
     "output_type": "stream",
     "text": [
      "Train time:  1.967 s\n",
      "Score: 0.240954743112\n",
      "Predict time:  0.032 s\n",
      "Mean squared error:  13638.6329365\n"
     ]
    },
    {
     "name": "stderr",
     "output_type": "stream",
     "text": [
      "/Users/michaelfeng/code/tf/venv/lib/python2.7/site-packages/sklearn/preprocessing/data.py:374: DeprecationWarning: Passing 1d arrays as data is deprecated in 0.17 and will raise ValueError in 0.19. Reshape your data either using X.reshape(-1, 1) if your data has a single feature or X.reshape(1, -1) if it contains a single sample.\n",
      "  warnings.warn(DEPRECATION_MSG_1D, DeprecationWarning)\n"
     ]
    }
   ],
   "source": [
    "from sklearn import linear_model\n",
    "from sklearn.preprocessing import MinMaxScaler\n",
    "\n",
    "scaler1 = MinMaxScaler()\n",
    "scaler2 = MinMaxScaler()\n",
    "train_features_scale = scaler1.fit_transform(train_features)\n",
    "train_labels_scale = scaler2.fit_transform(train_labels)\n",
    "\n",
    "test_features_scale = scaler1.fit_transform(test_features)\n",
    "test_labels_scale = scaler2.fit_transform(test_labels)\n",
    "\n",
    "start = time()\n",
    "clf = linear_model.SGDRegressor(loss='squared_loss',penalty='l2', alpha=0.0001, l1_ratio=0.15, fit_intercept=True, n_iter=5, shuffle=True, verbose=0, epsilon=0.1, random_state=None, learning_rate='constant', eta0=0.01, power_t=0.25, warm_start=False, average=False)\n",
    "clf.fit(train_features_scale, train_labels_scale)\n",
    "print \"Train time: \", round(time() - start, 3), \"s\"\n",
    "\n",
    "start = time()\n",
    "pred = clf.predict(test_features_scale)\n",
    "\n",
    "print 'Score:', clf.score(test_features_scale, test_labels_scale)\n",
    "print \"Predict time: \", round(time() - start, 3), \"s\"\n",
    "print 'Mean squared error: ', mean_squared_error(test_labels, scaler2.inverse_transform(pred))"
   ]
  },
  {
   "cell_type": "code",
   "execution_count": 33,
   "metadata": {
    "collapsed": false,
    "deletable": true,
    "editable": true,
    "scrolled": true
   },
   "outputs": [
    {
     "name": "stdout",
     "output_type": "stream",
     "text": [
      "[ 158.8066615    83.3005532    51.81166508 ...,  208.88902085   23.63206743\n",
      "   83.25334537]\n"
     ]
    },
    {
     "name": "stderr",
     "output_type": "stream",
     "text": [
      "/Users/michaelfeng/code/tf/venv/lib/python2.7/site-packages/sklearn/preprocessing/data.py:374: DeprecationWarning: Passing 1d arrays as data is deprecated in 0.17 and will raise ValueError in 0.19. Reshape your data either using X.reshape(-1, 1) if your data has a single feature or X.reshape(1, -1) if it contains a single sample.\n",
      "  warnings.warn(DEPRECATION_MSG_1D, DeprecationWarning)\n"
     ]
    }
   ],
   "source": [
    "pred = scaler2.inverse_transform(pred)\n",
    "print pred"
   ]
  },
  {
   "cell_type": "markdown",
   "metadata": {
    "deletable": true,
    "editable": true
   },
   "source": [
    "## Neutral Network训练"
   ]
  },
  {
   "cell_type": "code",
   "execution_count": 47,
   "metadata": {
    "collapsed": false,
    "deletable": true,
    "editable": true,
    "scrolled": true
   },
   "outputs": [
    {
     "name": "stdout",
     "output_type": "stream",
     "text": [
      "Train time:  23.514 s\n",
      "Score: -2.61602127607e-05\n",
      "Predict time:  0.721 s\n",
      "Mean squared error:  17968.6120192\n",
      "Loss 8651.82605989\n"
     ]
    }
   ],
   "source": [
    "from sklearn.neural_network import MLPRegressor\n",
    "\n",
    "start = time()\n",
    "clf =  MLPRegressor(random_state=42, activation='logistic')\n",
    "clf.fit(train_features, train_labels)\n",
    "print \"Train time: \", round(time() - start, 3), \"s\"\n",
    "\n",
    "start = time()\n",
    "pred = clf.predict(test_features)\n",
    "print 'Score:', clf.score(test_features, test_labels)\n",
    "print \"Predict time: \", round(time() - start, 3), \"s\"\n",
    "print 'Mean squared error: ', mean_squared_error(test_labels, pred)\n",
    "print 'Loss', clf.loss_"
   ]
  },
  {
   "cell_type": "markdown",
   "metadata": {},
   "source": [
    "### TODO\n",
    "\n",
    "- Add cluster column info in order to improve regression result.\n",
    "- Add weather data\n"
   ]
  },
  {
   "cell_type": "markdown",
   "metadata": {
    "deletable": true,
    "editable": true
   },
   "source": [
    "## GradientBoostingRegressor训练"
   ]
  },
  {
   "cell_type": "code",
   "execution_count": 130,
   "metadata": {
    "collapsed": false,
    "deletable": true,
    "editable": true,
    "scrolled": true
   },
   "outputs": [
    {
     "name": "stdout",
     "output_type": "stream",
     "text": [
      "Train time:  16523.448 s\n",
      "Score: 0.940694463442\n",
      "Predict time:  18.619 s\n",
      "Mean squared error:  1065.61030041\n"
     ]
    }
   ],
   "source": [
    "start = time()\n",
    "clf =  GradientBoostingRegressor(n_estimators=2000, learning_rate=0.1, max_depth=9, min_samples_split=30, random_state=0, loss='ls')\n",
    "clf.fit(train_features, train_labels)\n",
    "print \"Train time: \", round(time() - start, 3), \"s\"\n",
    "\n",
    "start = time()\n",
    "pred = clf.predict(test_features)\n",
    "print 'Score:', clf.score(test_features, test_labels)\n",
    "print \"Predict time: \", round(time() - start, 3), \"s\"\n",
    "print 'Mean squared error: ', mean_squared_error(test_labels, pred)"
   ]
  },
  {
   "cell_type": "code",
   "execution_count": 131,
   "metadata": {
    "collapsed": false,
    "deletable": true,
    "editable": true,
    "scrolled": true
   },
   "outputs": [
    {
     "name": "stdout",
     "output_type": "stream",
     "text": [
      "          day\n",
      "0  2016-11-01\n",
      "1  2016-11-02\n",
      "2  2016-11-03\n",
      "3  2016-11-04\n",
      "4  2016-11-05\n",
      "###########\n",
      "   shop_id     day\n",
      "0        1  736269\n",
      "1        1  736270\n",
      "2        1  736271\n",
      "3        1  736272\n",
      "4        1  736273\n",
      "Final Predict time:  1.933 s\n",
      "Final Predict feature len:  28000\n",
      "Final Predict label header: \n",
      "            0\n",
      "0  177.701795\n",
      "1  187.306587\n",
      "2  202.006967\n",
      "3  227.872601\n",
      "4  262.869336\n",
      "pred_features_ori_df header: \n",
      "   shop_id  key  day\n",
      "0        1    0    1\n",
      "1        1    0    2\n",
      "2        1    0    3\n",
      "3        1    0    4\n",
      "4        1    0    5\n",
      "28000\n",
      "Begin concating data:\n",
      "            0  pay_count  shop_id  day\n",
      "0  177.701795        NaN        1    1\n",
      "1  187.306587        NaN        1    2\n",
      "2  202.006967        NaN        1    3\n",
      "3  227.872601        NaN        1    4\n",
      "4  262.869336        NaN        1    5\n",
      "Finish predict.\n"
     ]
    }
   ],
   "source": [
    "### Predict data that 2016-11-1 to 2016-11-14\n",
    "date_list = ['2016-11-01','2016-11-02','2016-11-03','2016-11-04','2016-11-05','2016-11-06','2016-11-07','2016-11-08','2016-11-09','2016-11-10','2016-11-11','2016-11-12','2016-11-13','2016-11-14']\n",
    "\n",
    "date_df = pd.DataFrame(data=date_list, columns=['day'])\n",
    "date_df['day'] = pd.Series(pd.to_datetime(date_df['day'])).dt.date\n",
    "print date_df.head()\n",
    "\n",
    "shopid_df = pd.DataFrame(shop_df['shop_id'])\n",
    "shopid_df['key'] = 0\n",
    "date_df['key'] = 0\n",
    "pred_df = pd.merge(shopid_df, date_df, on='key', how='left')\n",
    "del pred_df['key']\n",
    "# predict features contains 'shop_id, day, is_weekend, weekday, view_count, shop_info ...'\n",
    "pred_df = pred_df.merge(shop_df, left_on='shop_id', right_on='shop_id', how='left') \n",
    "\n",
    "# Add view_count column in order to keep same number features as train data\n",
    "pred_df['view_count'] = np.random.choice(range(1, 100), pred_df.shape[0])\n",
    "pred_df['weekday'] = pred_df['day'].apply(lambda x: dt.datetime.weekday(x))\n",
    "pred_df['is_weekend'] = pred_df['weekday'].apply(lambda x: 1 if x >= 5 else 0)\n",
    "pred_df['day'] = pred_df['day'].apply(lambda x: x.toordinal())\n",
    "\n",
    "## TODO optimize generate average view_count for every shop_id\n",
    "pred_df = pred_df.fillna(0)\n",
    "pred_features_df = encode_onehot(pred_df, cols=['city_name','cate_1_name','cate_2_name'])\n",
    "pred_features_ori_df = pred_df[['shop_id','day']]\n",
    "\n",
    "\n",
    "print '###########'\n",
    "print pred_features_ori_df.head()\n",
    "\n",
    "start = time()\n",
    "#pred_labels_df = pd.DataFrame(pred_df['shop_id'])\n",
    "\n",
    "## Start for transform\n",
    "# pred_features_df = scaler1.fit_transform(pred_features_df)\n",
    "# End transform\n",
    "\n",
    "pred_labels = clf.predict(pred_features_df)\n",
    "print 'Final Predict time: ', round(time() - start,3),'s'\n",
    "#print 'Final Predict result len: ', pred_labels.shape[0]\n",
    "print 'Final Predict feature len: ', pred_features_df.shape[0]\n",
    "\n",
    "\n",
    "## Start for transform\n",
    "# pred_labels = scaler2.inverse_transform(pred_labels)\n",
    "# End transform\n",
    "\n",
    "pred_labels_df = pd.DataFrame(pred_labels)\n",
    "print 'Final Predict label header: '\n",
    "print pred_labels_df.head()\n",
    "\n",
    "# print 'Final Predict features header: '\n",
    "# print pred_features_df.head()\n",
    "\n",
    "pred_labels_df['pay_count'] = pd.DataFrame(data=pred_labels_df,columns=['pay_count'])\n",
    "\n",
    "# pred_features_ori_df contains 'shop_id', 'day numbers'\n",
    "date_list = [1,2,3,4,5,6,7,8,9,10,11,12,13,14]\n",
    "date_df['day'] = pd.DataFrame(data=date_list, columns=['day'])\n",
    "pred_features_ori_df = pd.merge(shopid_df, date_df, on='key', how='left')\n",
    "\n",
    "print 'pred_features_ori_df header: '\n",
    "print pred_features_ori_df.head()\n",
    "print len(pred_features_ori_df)\n",
    "\n",
    "\n",
    "print 'Begin concating data:'\n",
    "result = pd.concat([pred_labels_df, pred_features_ori_df], axis=1, join_axes=[pred_labels_df.index])\n",
    "del result['key']\n",
    "\n",
    "result.to_csv('result.txt', header=False, index=False)\n",
    "print result.head()\n",
    "\n",
    "# result.txt format: pay_count, shop_id, day\n",
    "print 'Finish predict.'"
   ]
  },
  {
   "cell_type": "markdown",
   "metadata": {
    "collapsed": true,
    "deletable": true,
    "editable": true
   },
   "source": [
    "#### XGBoosting seems like a good algorithm. But not as much as Gradient Boost Regression in this case."
   ]
  },
  {
   "cell_type": "code",
   "execution_count": null,
   "metadata": {
    "collapsed": true
   },
   "outputs": [],
   "source": []
  }
 ],
 "metadata": {
  "kernelspec": {
   "display_name": "Python 2",
   "language": "python",
   "name": "python2"
  },
  "language_info": {
   "codemirror_mode": {
    "name": "ipython",
    "version": 2
   },
   "file_extension": ".py",
   "mimetype": "text/x-python",
   "name": "python",
   "nbconvert_exporter": "python",
   "pygments_lexer": "ipython2",
   "version": "2.7.13"
  }
 },
 "nbformat": 4,
 "nbformat_minor": 2
}
